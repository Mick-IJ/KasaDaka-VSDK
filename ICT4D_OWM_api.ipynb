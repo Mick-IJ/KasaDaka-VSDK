{
 "cells": [
  {
   "cell_type": "markdown",
   "metadata": {},
   "source": [
    "# Imports"
   ]
  },
  {
   "cell_type": "code",
   "execution_count": null,
   "metadata": {},
   "outputs": [],
   "source": [
    "import configparser\n",
    "import requests\n",
    "import datetime\n",
    "import numpy as np\n",
    "from gtts import gTTS\n",
    "from googletrans import Translator"
   ]
  },
  {
   "cell_type": "markdown",
   "metadata": {},
   "source": [
    "# Constants"
   ]
  },
  {
   "cell_type": "code",
   "execution_count": null,
   "metadata": {},
   "outputs": [],
   "source": [
    "API_KEY = '96f16829e533921c155017d84728007b'\n",
    "CITIES = [('gourcy', 13.2167, -2.35), \n",
    "          ('bassi', 13.3252, -2.2453), \n",
    "          ('bougounam', 13.362, -2.3892),\n",
    "          ('london', 51.51, -0.13),\n",
    "          ('amsterdam', 52.3792, 4.8994)]"
   ]
  },
  {
   "cell_type": "markdown",
   "metadata": {},
   "source": [
    "# Functions: Quantative --> Qualitative"
   ]
  },
  {
   "cell_type": "code",
   "execution_count": null,
   "metadata": {},
   "outputs": [],
   "source": [
    "def temp_qual(temperature):\n",
    "    '''\n",
    "    Converts temperature in Celsius to a qualitative scale.\n",
    "    '''\n",
    "    if temperature < 16:\n",
    "        return 'cold'\n",
    "    elif temperature < 20:\n",
    "        return 'neutral'\n",
    "    elif temperature < 25:\n",
    "        return 'warm'\n",
    "    elif temperature < 40:\n",
    "        return 'hot'\n",
    "    elif temperature >= 40:\n",
    "        return 'very hot'\n",
    "    else:\n",
    "        return None\n",
    "\n",
    "\n",
    "def wind_qual(windspeed):\n",
    "    '''\n",
    "    Converts windspeed in m/s to a qualitative (beaufort) scale.    \n",
    "    '''\n",
    "    if windspeed < 0.3:\n",
    "        return 'no wind'\n",
    "    elif windspeed < 1.6:\n",
    "        return 'light air'\n",
    "    elif windspeed < 3.4:\n",
    "        return 'light breeze'\n",
    "    elif windspeed < 5.5:\n",
    "        return 'gentle breeze'\n",
    "    elif windspeed < 8.0:\n",
    "        return 'moderate breeze'\n",
    "    elif windspeed < 10.8:\n",
    "        return 'fresh breeze'\n",
    "    elif windspeed < 13.9:\n",
    "        return 'strong breeze'\n",
    "    elif windspeed < 17.2:\n",
    "        return 'high wind'\n",
    "    elif windspeed < 20.8:\n",
    "        return 'gale'\n",
    "    elif windspeed < 24.5:\n",
    "        return 'strong gale'\n",
    "    elif windspeed < 28.5:\n",
    "        return 'storm'\n",
    "    elif windspeed < 32.7:\n",
    "        return 'violent storm'\n",
    "    elif windspeed >= 32.7:\n",
    "        return 'hurricane'\n",
    "    else:\n",
    "        return None\n",
    "\n",
    "\n",
    "def rain_qual(rain):\n",
    "    '''\n",
    "    Converts rain in mm/day to a qualitative scale.    \n",
    "    '''    \n",
    "    if rain == 0:\n",
    "        return 'no'\n",
    "    elif rain < 2:\n",
    "        return 'light'\n",
    "    elif rain < 10:\n",
    "        return 'moderate'\n",
    "    elif rain < 50:\n",
    "        return 'heavy'\n",
    "    elif rain >= 50:\n",
    "        return 'very heavy'\n",
    "    else:\n",
    "        return None"
   ]
  },
  {
   "cell_type": "markdown",
   "metadata": {},
   "source": [
    "# Functions: Misc"
   ]
  },
  {
   "cell_type": "code",
   "execution_count": null,
   "metadata": {},
   "outputs": [],
   "source": [
    "def converttimestamp(dt):\n",
    "    '''\n",
    "    Converts unix timestamp to readable date and time\n",
    "    '''\n",
    "    timestamp = datetime.datetime.fromtimestamp(dt)\n",
    "    return timestamp.strftime('%Y-%m-%d')"
   ]
  },
  {
   "cell_type": "markdown",
   "metadata": {},
   "source": [
    "# Functions: Get and filter weather data"
   ]
  },
  {
   "cell_type": "code",
   "execution_count": null,
   "metadata": {},
   "outputs": [],
   "source": [
    "def get_weather(lat, lon):\n",
    "    '''\n",
    "    Retrieves and filters the weatherforecast for the next 7 days.\n",
    "    '''\n",
    "    url = 'https://api.openweathermap.org/data/2.5/onecall?lat={}&lon={}&units=metric&exclude=current,hourly&appid={}'.format(lat, lon, API_KEY)\n",
    "    return requests.get(url).json()['daily'][1:]\n",
    "\n",
    "\n",
    "def select_weatherdata(daily_forecast):\n",
    "    '''\n",
    "    Selects the needed weather data within daily forecast data\n",
    "    Stores as dicts per day in a list\n",
    "    '''\n",
    "    weatherdatalist = []\n",
    "    \n",
    "    for forecast in daily_forecast:\n",
    "        \n",
    "        weatherdata = {}\n",
    "        weatherdata['dtread'] = converttimestamp(forecast['dt']) if 'dt' in forecast else None\n",
    "        weatherdata['windspeed'] = forecast['wind_speed'] if 'wind_speed' in forecast else 0\n",
    "        weatherdata['feeltemp'] = forecast['feels_like']['day'] if 'feels_like' in forecast else None\n",
    "        weatherdata['rain'] = forecast['rain'] if 'rain' in forecast else 0\n",
    "        \n",
    "        weatherdatalist.append(weatherdata)\n",
    "    return weatherdatalist"
   ]
  },
  {
   "cell_type": "markdown",
   "metadata": {},
   "source": [
    "# Functions: Process weather data"
   ]
  },
  {
   "cell_type": "code",
   "execution_count": null,
   "metadata": {},
   "outputs": [],
   "source": [
    "# calculate weatherdata for 1, 3 and 7 days in a dict\n",
    "\n",
    "def calc_weatherdata(weatherlist):\n",
    "    weathercalcdict = {}\n",
    "    weathercalcdict['24 hours'] = {}\n",
    "    weathercalcdict['3 days'] = {}\n",
    "    weathercalcdict['7 days'] = {}\n",
    "\n",
    "\n",
    "    # Calculate the 3 day prediction values\n",
    "    day3_temp = round((weatherlist[0]['feeltemp'] + weatherlist[1]['feeltemp'] + \n",
    "                       weatherlist[2]['feeltemp']) / 3, 2)\n",
    "    day3_wind = round((weatherlist[0]['windspeed'] + weatherlist[1]['windspeed'] +\n",
    "                       weatherlist[2]['windspeed'])/3, 2)\n",
    "    day3_rain = round( weatherlist[0]['rain'] + weatherlist[1]['rain'] + \n",
    "                       weatherlist[2]['rain'], 2)\n",
    "\n",
    "    # Calculate the 7 day prediction values\n",
    "    day7_temp = round((weatherlist[0]['feeltemp'] + weatherlist[1]['feeltemp'] + \n",
    "                       weatherlist[2]['feeltemp'] + weatherlist[3]['feeltemp'] + \n",
    "                       weatherlist[4]['feeltemp'] + weatherlist[5]['feeltemp'] + \n",
    "                       weatherlist[6]['feeltemp']) / 7, 2)\n",
    "    day7_wind = round((weatherlist[0]['windspeed'] + weatherlist[1]['windspeed'] + \n",
    "                       weatherlist[2]['windspeed'] + weatherlist[3]['windspeed'] + \n",
    "                       weatherlist[4]['windspeed'] + weatherlist[5]['windspeed'] + \n",
    "                       weatherlist[6]['windspeed']) / 7, 2)\n",
    "    day7_rain = round( weatherlist[0]['rain'] + weatherlist[1]['rain'] + \n",
    "                       weatherlist[2]['rain'] + weatherlist[3]['rain'] + \n",
    "                       weatherlist[4]['rain'] + weatherlist[5]['rain'] + \n",
    "                       weatherlist[6]['rain'], 2)\n",
    "    \n",
    "    # Add the found values to the dictionary (+ 24 hour values)\n",
    "    weathercalcdict['24 hours']['windspeed'] = weatherlist[0]['windspeed']\n",
    "    weathercalcdict['24 hours']['feeltemp'] = weatherlist[0]['feeltemp']\n",
    "    weathercalcdict['24 hours']['rain'] = weatherlist[0]['rain']\n",
    "\n",
    "    weathercalcdict['3 days']['windspeed'] = day3_wind\n",
    "    weathercalcdict['3 days']['feeltemp'] = day3_temp\n",
    "    weathercalcdict['3 days']['rain'] = day3_rain\n",
    "\n",
    "    weathercalcdict['7 days']['windspeed'] = day7_wind\n",
    "    weathercalcdict['7 days']['feeltemp'] = day7_temp\n",
    "    weathercalcdict['7 days']['rain'] = day7_rain\n",
    "    return weathercalcdict\n",
    "\n",
    "def conv_weatherdata(weatherdict):\n",
    "    '''\n",
    "    Converts quantitative values to qualitative categories\n",
    "    '''    \n",
    "    \n",
    "    for timeframe in weatherdict:\n",
    "        weatherdict[timeframe] = {'feeltemp': temp_qual(weatherdict[timeframe]['feeltemp']),\n",
    "                                  'windspeed': wind_qual(weatherdict[timeframe]['windspeed']),\n",
    "                                  'rain': rain_qual(weatherdict[timeframe]['rain'])}   \n",
    "    return weatherdict"
   ]
  },
  {
   "cell_type": "markdown",
   "metadata": {},
   "source": [
    "# Functions: Formulate and save forecast"
   ]
  },
  {
   "cell_type": "code",
   "execution_count": null,
   "metadata": {},
   "outputs": [],
   "source": [
    "def formulate_forecast(weatherdict, city):\n",
    "    for timeframe in weatherdict:\n",
    "        temp = weatherdict[timeframe]['feeltemp']\n",
    "        wind = weatherdict[timeframe]['windspeed']\n",
    "        rain = weatherdict[timeframe]['rain']        \n",
    "        \n",
    "        weatherdict[timeframe] = 'The weather for %s for the next %s. The temperature will be %s, there will be a %s and %s rain' % (city, timeframe, temp, wind, rain)\n",
    "        \n",
    "    return weatherdict\n",
    "\n",
    "\n",
    "def forecast_to_speech(dict_forecasts):\n",
    "    for city in dict_forecasts:\n",
    "        for timeframe in dict_forecasts[city]:\n",
    "            \n",
    "            # English\n",
    "            txt_en = dict_forecasts[city][timeframe]\n",
    "            tts_en = gTTS(txt_en)\n",
    "            tts_en.save(f'{city}_{timeframe}_EN.mp3')\n",
    "            \n",
    "            # French\n",
    "            translator = Translator()\n",
    "            txt_fr = translator.translate(txt_en, dest='fr')\n",
    "            tts_fr = gTTS(txt_fr.text, lang='fr')\n",
    "            tts_fr.save(f'{city}_{timeframe}_FR.mp3')"
   ]
  },
  {
   "cell_type": "markdown",
   "metadata": {},
   "source": [
    "# Functions: Main function"
   ]
  },
  {
   "cell_type": "code",
   "execution_count": null,
   "metadata": {},
   "outputs": [],
   "source": [
    "def main(save_audio = False):\n",
    "    convert_audio = {}\n",
    "    \n",
    "    for city, latitude, longitude in CITIES:\n",
    "        weather = get_weather(latitude, longitude)\n",
    "        filtered = select_weatherdata(weather)\n",
    "        calculated = calc_weatherdata(filtered)\n",
    "        converted = conv_weatherdata(calculated)\n",
    "        forecasts = formulate_forecast(converted, city)\n",
    "        \n",
    "        convert_audio[city] = forecasts\n",
    "    \n",
    "    if save_audio:\n",
    "        forecast_to_speech(convert_audio)\n",
    "    else:\n",
    "        return convert_audio\n",
    "        "
   ]
  },
  {
   "cell_type": "code",
   "execution_count": null,
   "metadata": {},
   "outputs": [],
   "source": [
    "main(save_audio=False)"
   ]
  },
  {
   "cell_type": "code",
   "execution_count": null,
   "metadata": {},
   "outputs": [],
   "source": []
  }
 ],
 "metadata": {
  "kernelspec": {
   "display_name": "Python 3",
   "language": "python",
   "name": "python3"
  },
  "language_info": {
   "codemirror_mode": {
    "name": "ipython",
    "version": 3
   },
   "file_extension": ".py",
   "mimetype": "text/x-python",
   "name": "python",
   "nbconvert_exporter": "python",
   "pygments_lexer": "ipython3",
   "version": "3.7.4"
  }
 },
 "nbformat": 4,
 "nbformat_minor": 2
}
